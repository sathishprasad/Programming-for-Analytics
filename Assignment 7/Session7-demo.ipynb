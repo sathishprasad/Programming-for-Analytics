{
 "cells": [
  {
   "cell_type": "markdown",
   "id": "b1814c11-3e29-4633-b407-2a0e811940c3",
   "metadata": {},
   "source": [
    "# Session 7 Demo\n",
    "\n",
    "## Sorting"
   ]
  },
  {
   "cell_type": "code",
   "execution_count": 1,
   "id": "d6801c0c-5539-44f9-b09c-aa4da979289c",
   "metadata": {},
   "outputs": [
    {
     "data": {
      "text/plain": [
       "['Alice', 'Bjorn', 'Cayman', 'Duanphen', 'Duanphen', 'Esfir', 'Farah']"
      ]
     },
     "execution_count": 1,
     "metadata": {},
     "output_type": "execute_result"
    }
   ],
   "source": [
    "clients = [\"Duanphen\", \"Bjorn\", \"Farah\", \"Alice\", \"Cayman\", \"Duanphen\", \"Esfir\"]\n",
    "\n",
    "# the 'sorted' fucntion doesn't change the original list\n",
    "sorted(clients)"
   ]
  },
  {
   "cell_type": "code",
   "execution_count": 2,
   "id": "f462ad75-2e0a-470a-a0b2-7589027d6c0f",
   "metadata": {},
   "outputs": [
    {
     "data": {
      "text/plain": [
       "['Duanphen', 'Bjorn', 'Farah', 'Alice', 'Cayman', 'Duanphen', 'Esfir']"
      ]
     },
     "execution_count": 2,
     "metadata": {},
     "output_type": "execute_result"
    }
   ],
   "source": [
    "# original list is still the same\n",
    "clients"
   ]
  },
  {
   "cell_type": "code",
   "execution_count": 3,
   "id": "f1b93f73-a445-49dc-af5b-84567a29520b",
   "metadata": {},
   "outputs": [
    {
     "data": {
      "text/plain": [
       "['Alice', 'Bjorn', 'Cayman', 'Duanphen', 'Duanphen', 'Esfir', 'Farah']"
      ]
     },
     "execution_count": 3,
     "metadata": {},
     "output_type": "execute_result"
    }
   ],
   "source": [
    "# the 'sort' function does sorting 'in place,' or it changes the original list\n",
    "clients.sort()\n",
    "clients"
   ]
  },
  {
   "cell_type": "code",
   "execution_count": null,
   "id": "83bc7c88-c946-451d-b39b-e827a9d759a8",
   "metadata": {},
   "outputs": [],
   "source": [
    "# let's generate some random numbers and sort an np array\n",
    "import numpy as np\n",
    "numbers = np.random.randint(0, 100, 10)\n",
    "numbers"
   ]
  },
  {
   "cell_type": "code",
   "execution_count": null,
   "id": "2092d3a3-2a9d-424b-9d8c-f84022bedb6c",
   "metadata": {},
   "outputs": [],
   "source": [
    "numbers.sort()\n",
    "numbers"
   ]
  },
  {
   "cell_type": "code",
   "execution_count": null,
   "id": "f1429aac-41d1-4afa-a754-cfa78f5e5e65",
   "metadata": {},
   "outputs": [],
   "source": [
    "# Let's make a new array of random numbers to show off some other functionality\n",
    "numbers = np.random.randint(0, 100, 10)\n",
    "numbers"
   ]
  },
  {
   "cell_type": "code",
   "execution_count": null,
   "id": "482ffb7f-e78c-4469-8868-8a7abb4400f1",
   "metadata": {},
   "outputs": [],
   "source": [
    "# We can reverse the order of sorting (descending instead of ascending)\n",
    "sorted(numbers, reverse=True)"
   ]
  },
  {
   "cell_type": "code",
   "execution_count": null,
   "id": "fb14c0da-4136-422e-a11d-8b936712930b",
   "metadata": {},
   "outputs": [],
   "source": [
    "# Let's pair tese up with random letters\n",
    "letters = [\"A\", \"B\", \"C\", \"D\", \"E\", \"F\", \"G\", \"H\", \"I\", \"J\"]\n",
    "np.random.shuffle(letters)\n",
    "d = dict(zip(letters, numbers))\n",
    "d"
   ]
  },
  {
   "cell_type": "code",
   "execution_count": null,
   "id": "4e8a7296-ae4b-4dc6-b88a-9eb48031a087",
   "metadata": {},
   "outputs": [],
   "source": [
    "# Sorting on a dictionary will sort on the keys\n",
    "sorted(d)"
   ]
  },
  {
   "cell_type": "code",
   "execution_count": null,
   "id": "044aa60f-b319-4278-8a5e-01990e9619d0",
   "metadata": {},
   "outputs": [],
   "source": [
    "# What if we want to sort by value?\n",
    "# Here's one way to do it\n",
    "sorted(d.items(), key=lambda item: item[1])"
   ]
  },
  {
   "cell_type": "code",
   "execution_count": null,
   "id": "717717d0-d293-4d71-8e89-615496490391",
   "metadata": {},
   "outputs": [],
   "source": [
    "# Or if we only want the keys, we can do this.\n",
    "sorted(d.keys(), key=lambda x: d[x])"
   ]
  },
  {
   "cell_type": "markdown",
   "id": "8cd946d8-e6dd-405c-81f8-a8370e4391ff",
   "metadata": {},
   "source": [
    "Are you wondering, \"What the heck is `lambda`?\" [Learn more here](https://www.freecodecamp.org/news/python-lambda-function-explained/)."
   ]
  },
  {
   "cell_type": "code",
   "execution_count": null,
   "id": "f73169e2-e962-4868-a1d0-9ec2f5c494d2",
   "metadata": {},
   "outputs": [],
   "source": [
    "# We can also sort data frames\n",
    "import pandas as pd\n",
    "\n",
    "df = pd.DataFrame({'Name': [\"Duanphen\", \"Bjorn\", \"Farah\", \"Alice\", \"Cayman\", \"Duanphen\", \"Esfir\"],\n",
    "                   'Age': [20, 28, 22, 21, 19, 17, 23],\n",
    "                   'Rank': [1, np.nan, np.nan, 8, 9, 4, np.nan]})\n",
    "\n",
    "df"
   ]
  },
  {
   "cell_type": "code",
   "execution_count": null,
   "id": "56911658-d483-44c3-ad7f-6bc274b4b7d4",
   "metadata": {},
   "outputs": [],
   "source": [
    "df.sort_values(by=['Name'])"
   ]
  },
  {
   "cell_type": "code",
   "execution_count": null,
   "id": "e3ffe7db-4a40-45fc-b0b6-7cc665f64a7e",
   "metadata": {},
   "outputs": [],
   "source": [
    "df.sort_values(by=['Age'], ascending=False)"
   ]
  },
  {
   "cell_type": "markdown",
   "id": "f0ed3852-9354-4fd2-8c55-a0a29eaa376f",
   "metadata": {},
   "source": [
    "## Basic Searching"
   ]
  },
  {
   "cell_type": "code",
   "execution_count": null,
   "id": "ab4de819-7bef-4481-8c4a-1a39b908d187",
   "metadata": {
    "tags": []
   },
   "outputs": [],
   "source": [
    "# Let's define a list and a string for us to search\n",
    "clients = [\"Alice\", \"Bjorn\", \"Marie\", \"Cayman\", \"Duanphen\", \"Esfir\", \"Farah\"]\n",
    "bio = \"The chief architect of this program is named Marie Eisenhower.  She received her degree in...\""
   ]
  },
  {
   "cell_type": "code",
   "execution_count": null,
   "id": "3dc7438d-48a5-476d-a9fd-ae6d6e4c604c",
   "metadata": {},
   "outputs": [],
   "source": [
    "# Is the string \"Marie\" an element in our list of clients?\n",
    "\"Marie\" in clients"
   ]
  },
  {
   "cell_type": "code",
   "execution_count": null,
   "id": "1b8136d9-8a58-47ae-a28c-ad9dd8786343",
   "metadata": {},
   "outputs": [],
   "source": [
    "# What happens with a partial string?\n",
    "\"Mar\" in clients"
   ]
  },
  {
   "cell_type": "code",
   "execution_count": null,
   "id": "2d1bb000-f749-49f8-b779-b524c0f35049",
   "metadata": {},
   "outputs": [],
   "source": [
    "# What position (or index) can we find \"Marie\"?\n",
    "clients.index(\"Marie\")"
   ]
  },
  {
   "cell_type": "code",
   "execution_count": null,
   "id": "bee1ef3f-b083-4d1c-a4ba-02bc0cc88d8f",
   "metadata": {},
   "outputs": [],
   "source": [
    "# And if we try to find the inces for someone that's not there?\n",
    "clients.index(\"Margot\")"
   ]
  },
  {
   "cell_type": "code",
   "execution_count": null,
   "id": "116b5a05-4f95-4900-bea0-b61b3ed4837b",
   "metadata": {},
   "outputs": [],
   "source": [
    "# What if we try to find Marie in the bio\n",
    "\"Marie\" in bio"
   ]
  },
  {
   "cell_type": "code",
   "execution_count": null,
   "id": "90dbfdb8-3c87-4d5f-829f-d3343a923d66",
   "metadata": {},
   "outputs": [],
   "source": [
    "# Sewrching for partial strings work here, though!\n",
    "# (It's looking for a string subset in a longer string either way.)\n",
    "\"Mar\" in bio"
   ]
  },
  {
   "cell_type": "code",
   "execution_count": null,
   "id": "4a1e1d4d-4b5f-4c09-8ccc-64d47085f1d0",
   "metadata": {},
   "outputs": [],
   "source": [
    "# We can also look for the position/index\n",
    "bio.index(\"Marie\")"
   ]
  },
  {
   "cell_type": "code",
   "execution_count": null,
   "id": "190ce8bd-45db-4813-b932-d9a64eb2759a",
   "metadata": {},
   "outputs": [],
   "source": [
    "# This does the same thing!\n",
    "bio.find(\"Marie\")"
   ]
  },
  {
   "cell_type": "code",
   "execution_count": null,
   "id": "1400fbf0-be20-4fd7-8722-faaa16493bf9",
   "metadata": {},
   "outputs": [],
   "source": [
    "# But you can't use \"find\" on lists\n",
    "clients.find(\"Marie\")"
   ]
  },
  {
   "cell_type": "code",
   "execution_count": null,
   "id": "e0f7dafa-36e0-45ba-b1ad-149b266a4824",
   "metadata": {},
   "outputs": [],
   "source": [
    "# You can also count the number of occurances in both strings and lists\n",
    "bio = \"The chief architect of this program is named Marie Eisenhower.  Marie received her degree in...\"\n",
    "bio.count(\"Marie\")"
   ]
  },
  {
   "cell_type": "markdown",
   "id": "cf52a4ec-6952-4526-a0ff-30deb2b3b797",
   "metadata": {},
   "source": [
    "## Regular Expressions \n",
    "\n",
    "Much of this demo is drawn from the [Python docs regex HOWTO](https://docs.python.org/3/howto/regex.html)."
   ]
  },
  {
   "cell_type": "code",
   "execution_count": null,
   "id": "65a111d1-40e4-45f0-8d00-d6abc92650d5",
   "metadata": {},
   "outputs": [],
   "source": [
    "import re"
   ]
  },
  {
   "cell_type": "markdown",
   "id": "49709d08-b9a7-4281-aec2-1f3c7183ac42",
   "metadata": {},
   "source": [
    "### Methods\n",
    "\n",
    "Let's start with the key methods used with reular expressions:\n",
    "- `match`\n",
    "- `search`\n",
    "- `findall`\n",
    "- `finditer`"
   ]
  },
  {
   "cell_type": "code",
   "execution_count": null,
   "id": "f74995db-3773-4600-acd8-91edde70ce19",
   "metadata": {},
   "outputs": [],
   "source": [
    "# Determine if the RE matches at the beginning of the string.\n",
    "# Note: match returns None if there is no match\n",
    "re.match(\"Marie\", bio)"
   ]
  },
  {
   "cell_type": "code",
   "execution_count": null,
   "id": "b83caf54-d36b-493d-a0f3-492e454dbc22",
   "metadata": {},
   "outputs": [],
   "source": [
    "# Determine if the RE matches at the beginning of the string.\n",
    "# Here's what happens if there is a match!\n",
    "re.match(\"The\", bio)"
   ]
  },
  {
   "cell_type": "code",
   "execution_count": null,
   "id": "88f8339a-24e7-475c-a017-c16ac6b3cb9f",
   "metadata": {},
   "outputs": [],
   "source": [
    "# How do we actually use this?  Here's one way:\n",
    "for test_str in [\"Marie\", \"The\", \"My\"]:\n",
    "    if re.match(test_str, bio):\n",
    "        print(\"The bio starts with '\" + test_str + \"'\")\n",
    "    else:\n",
    "        print(\"The bio does NOT start with \" + test_str + \"'\")"
   ]
  },
  {
   "cell_type": "code",
   "execution_count": null,
   "id": "090d4895-5702-46e9-a8b7-6cede37ebc9f",
   "metadata": {},
   "outputs": [],
   "source": [
    "# But that doesn't give us any more functionality than the \"startswith\" string method\n",
    "# And it's harder to use, so let's find some more compelling use cases...\n",
    "bio.startswith(\"Maire\")"
   ]
  },
  {
   "cell_type": "code",
   "execution_count": null,
   "id": "dcb77dbe-bc5e-4d77-88bd-992f8343dc26",
   "metadata": {},
   "outputs": [],
   "source": [
    "# First, there are a few more methods\n",
    "# 'search' scan through a string, looking for any location where the RE matches.\n",
    "# The 'span' is where the first match occurs\n",
    "re.search(\"Marie\", bio)"
   ]
  },
  {
   "cell_type": "code",
   "execution_count": null,
   "id": "3fa23c08-1a15-4426-958a-f9c8bca7543c",
   "metadata": {},
   "outputs": [],
   "source": [
    "# Like match, search returns None if the RE can't be found in the string\n",
    "re.search(\"MOO\", bio)"
   ]
  },
  {
   "cell_type": "code",
   "execution_count": null,
   "id": "6e7f124e-6164-40eb-b7a0-dafad8edf728",
   "metadata": {},
   "outputs": [],
   "source": [
    "# Find all substrings where the RE matches, and returns them as a list.\n",
    "# This is boring when the RE is just a string, but we'll see its power soon.\n",
    "re.findall(\"Marie\", bio)"
   ]
  },
  {
   "cell_type": "code",
   "execution_count": null,
   "id": "066cb3eb-ba78-4caa-a22b-92234564dd4b",
   "metadata": {},
   "outputs": [],
   "source": [
    "# Find all substrings where the RE matches, and returns them as an iterator.\n",
    "re.finditer(\"Marie\", bio)"
   ]
  },
  {
   "cell_type": "code",
   "execution_count": null,
   "id": "37b4dc56-540c-43db-9060-7f97e62fc5cd",
   "metadata": {},
   "outputs": [],
   "source": [
    "# We can stick the result in a loop\n",
    "for result in re.finditer(\"Marie\", bio):\n",
    "    print(result)"
   ]
  },
  {
   "cell_type": "markdown",
   "id": "f6dca1ef-5344-4561-9900-7ee6fa8cef66",
   "metadata": {},
   "source": [
    "### Metacharacters\n",
    "\n",
    "Now that we've seen the key methods for regular expressions, let's get into the metacharacters.\n",
    "\n",
    "`. ^ $ * + ? { } [ ] \\ | ( )`"
   ]
  },
  {
   "cell_type": "code",
   "execution_count": null,
   "id": "045b35dc-aa4c-43f1-b4e5-319665b2c150",
   "metadata": {},
   "outputs": [],
   "source": [
    "# The square brackets [] specify a character class, or set of characters that you wish to match. \n",
    "\n",
    "# Characters can be listed individually,\n",
    "re.findall(\"[abc]\", \"Now I know my a, b, c's\")"
   ]
  },
  {
   "cell_type": "code",
   "execution_count": null,
   "id": "6c447184-4f90-4234-9622-b5a6495ab683",
   "metadata": {},
   "outputs": [],
   "source": [
    "# Or a range of characters can be indicated by giving two characters and separating them by a '-'.\n",
    "re.findall(\"[a-z]\", \"Now I know my a, b, c's\")"
   ]
  },
  {
   "cell_type": "code",
   "execution_count": null,
   "id": "4a33bb6d-8562-46ad-8071-48c9f95ca63d",
   "metadata": {},
   "outputs": [],
   "source": [
    "# You can also complementing a set of charcters (match everything but the ones listed.\n",
    "re.findall(\"[^abc]\", \"abcdefg\")"
   ]
  },
  {
   "cell_type": "code",
   "execution_count": null,
   "id": "f3d02527-501e-4a39-90ff-ba50fe8376f7",
   "metadata": {},
   "outputs": [],
   "source": [
    "# but the ^ character has to go first! Othreriwse it's treacted as a charcter to match\n",
    "re.findall(\"[a^bc]\", \"abcdefg\")"
   ]
  },
  {
   "cell_type": "code",
   "execution_count": null,
   "id": "3d937f7e-af9d-4f09-b178-6e3882f2f4c2",
   "metadata": {},
   "outputs": [],
   "source": [
    "# The backslash is super important if you want to match a metacharacter or special sequence\n",
    "re.findall(\"[\\[]\", \"This will find [ all ] the [left] square brackets.\")"
   ]
  },
  {
   "cell_type": "code",
   "execution_count": null,
   "id": "21f12382-9e11-4b10-b216-b8f2d1b55c59",
   "metadata": {},
   "outputs": [],
   "source": [
    "# \\d is for decimal digits; equivalent to [0-9]\n",
    "re.findall(\"[\\d]\", \"If you 5 want 7 to find 8364 all the decimal 00 digits, do this!\")"
   ]
  },
  {
   "cell_type": "markdown",
   "id": "a274fba4-53b1-4883-904d-ee1ad6d91196",
   "metadata": {},
   "source": [
    "Notable special sequences:\n",
    "- `\\d`: decimal digits; equivalent to `[0-9]`\n",
    "- `\\D`: non-digit characters; equivalent to `[^0-9]`\n",
    "- `\\s`: whitespace characters; equivalent to `[ \\t\\n\\r\\f\\v]`\n",
    "- `\\S`: non-whitespace characters; equivalent to `[^ \\t\\n\\r\\f\\v]`\n",
    "- `\\w`: alphanumeric characters; equivalent to `[a-zA-Z0-9_]`\n",
    "- `\\W`: non-alphanumeric character; equivalent to `[^a-zA-Z0-9_]`"
   ]
  },
  {
   "cell_type": "code",
   "execution_count": null,
   "id": "7865420b-b4ff-4ab8-ae70-d925959719d5",
   "metadata": {},
   "outputs": [],
   "source": [
    "# To get into the real power of regular expressions, we need to identify repetition\n",
    "# The * character helps us do that.\n",
    "re.findall(\"ca*t\", \"I like cats.  I like caaaaats.  I like caaaaaaaaaaats.  Tract.\")"
   ]
  },
  {
   "cell_type": "code",
   "execution_count": null,
   "id": "ba0cc05c-a861-4a40-b572-c89d426451fe",
   "metadata": {},
   "outputs": [],
   "source": [
    "# The * is \"greedy\" meaning it wants to match as long a string a possible.\n",
    "# Before running this line, try to guess what it will do!  Why?\n",
    "re.findall(\"a[bcd]*b\", \"abcbd\")"
   ]
  },
  {
   "cell_type": "code",
   "execution_count": null,
   "id": "fd7ad7be-2972-43ab-922b-84335c90c386",
   "metadata": {},
   "outputs": [],
   "source": [
    "# Another repeating metacharacter is +, which matches one or more times\n",
    "re.findall(\"ca+t\", \"I like cats.  I like caaaaats.  I like caaaaaaaaaaats.  Tract.\")"
   ]
  },
  {
   "cell_type": "code",
   "execution_count": null,
   "id": "bdfb9328-5c80-488f-8fd3-dec0c131aeaa",
   "metadata": {},
   "outputs": [],
   "source": [
    "# ? matches either once or zero times (the character is \"optional\")\n",
    "re.findall(\"pre-?assignment\", \"This class has a preassignment.  The pre-assignment was ungraded.\") "
   ]
  },
  {
   "cell_type": "code",
   "execution_count": null,
   "id": "b6487e4d-4ec6-426d-a099-4b5e8cb41ed1",
   "metadata": {},
   "outputs": [],
   "source": [
    "# The most complicated quantifier is {m,n}, where m and n are decimal integers\n",
    "# Ths means there must be at least m repetitions, and at most n.\n",
    "re.findall(\"ca{1,3}t\", \"ct cat caat caaat caaaat caaaaat\")"
   ]
  },
  {
   "cell_type": "markdown",
   "id": "613a0639-8461-487f-aa64-b846b57fab77",
   "metadata": {},
   "source": [
    "There are more details about using regular expressions, but this should get you started!\n",
    "\n",
    "See the full [Python docs regex HOWTO](https://docs.python.org/3/howto/regex.html) for more.\n",
    "\n",
    "## Computational efficiency\n",
    "Two pieces of code can achieve the exact same result in differnt ways.  One thing to be aware of: depending on how you write your code, it can take a long time to run!  Rule of thumb: if you find yourself \"waiting\" for your code to finish running, it might be worth improving the efficiency of your code.  Consider these two examples and try them out with larger N!"
   ]
  },
  {
   "cell_type": "code",
   "execution_count": null,
   "id": "fc6ff6d7-f894-429f-9026-9b6247f737ca",
   "metadata": {},
   "outputs": [],
   "source": [
    "import time\n",
    "\n",
    "# Inefficient code to find the sum of all numbers from 1 to N\n",
    "def inefficient_sum(N):\n",
    "    start_time = time.time()\n",
    "    total = 0\n",
    "    for num in range(1, N+1):\n",
    "        total += num\n",
    "    end_time = time.time()\n",
    "    execution_time = end_time - start_time\n",
    "    print(\"Sum:\", total)\n",
    "    print(\"Execution Time:\", execution_time)\n",
    "\n",
    "# Efficient code to find the sum of all numbers from 1 to N \n",
    "def efficient_sum(N):\n",
    "    start_time = time.time()\n",
    "    total = (N * (N + 1)) // 2\n",
    "    end_time = time.time()\n",
    "    execution_time = end_time - start_time\n",
    "    print(\"Sum:\", total)\n",
    "    print(\"Execution Time:\", execution_time)"
   ]
  },
  {
   "cell_type": "code",
   "execution_count": null,
   "id": "abaf103f-bc34-40bd-a38b-9e9c2c839141",
   "metadata": {},
   "outputs": [],
   "source": [
    "# Call the inefficient function with N = 10 million\n",
    "N = 10000000\n",
    "inefficient_sum(N)"
   ]
  },
  {
   "cell_type": "code",
   "execution_count": null,
   "id": "0e93ab5d-8622-4c19-8321-b46a5c4b248c",
   "metadata": {},
   "outputs": [],
   "source": [
    "# Call the inefficient function with N = 10 million\n",
    "efficient_sum(N)"
   ]
  },
  {
   "cell_type": "markdown",
   "id": "47836eeb-b5b7-4afe-94e6-2f3b1d67c794",
   "metadata": {},
   "source": [
    "## Statisitics\n",
    "\n",
    "Speaking of doing the same thing different ways..."
   ]
  },
  {
   "cell_type": "code",
   "execution_count": null,
   "id": "4c3a01dc-4569-411b-a1eb-7d80926b3a80",
   "metadata": {},
   "outputs": [],
   "source": [
    "# Base Python\n",
    "import statistics\n",
    "\n",
    "data = [10, 5, 8, 12, 3]\n",
    "\n",
    "print(\"Minimum:\", min(data))\n",
    "print(\"Maximum:\", max(data))\n",
    "print(\"Sum:\", sum(data))\n",
    "print(\"Mean:\", statistics.mean(data))\n",
    "print(\"Median:\", statistics.median(data))\n",
    "print(\"Standard Deviation:\", statistics.stdev(data))\n",
    "print(\"Variance:\", statistics.variance(data))"
   ]
  },
  {
   "cell_type": "code",
   "execution_count": null,
   "id": "e5888bca-ff20-462a-bb01-bb2d5906642e",
   "metadata": {},
   "outputs": [],
   "source": [
    "# NumPy\n",
    "import numpy as np\n",
    "\n",
    "data = np.array([10, 5, 8, 12, 3])\n",
    "\n",
    "print(\"Minimum:\", np.min(data))\n",
    "print(\"Maximum:\", np.max(data))\n",
    "print(\"Sum:\", np.sum(data))\n",
    "print(\"Mean:\", np.mean(data))\n",
    "print(\"Median:\", np.median(data))\n",
    "print(\"Standard Deviation:\", np.std(data))\n",
    "print(\"Variance:\", np.var(data))"
   ]
  },
  {
   "cell_type": "code",
   "execution_count": null,
   "id": "da85dc07-2b08-4b3f-ae55-bf013325f984",
   "metadata": {},
   "outputs": [],
   "source": [
    "# Pandas\n",
    "import pandas as pd\n",
    "\n",
    "data = pd.Series([10, 5, 8, 12, 3])\n",
    "\n",
    "print(\"Minimum:\", data.min())\n",
    "print(\"Maximum:\", data.max())\n",
    "print(\"Sum:\", data.sum())\n",
    "print(\"Mean:\", data.mean())\n",
    "print(\"Median:\", data.median())\n",
    "print(\"Standard Deviation:\", data.std())\n",
    "print(\"Variance:\", data.var())"
   ]
  },
  {
   "cell_type": "markdown",
   "id": "927f30fe-b8c2-4eee-a53c-2d815e40f840",
   "metadata": {},
   "source": [
    "NumPy is very effienct at computing these operations, and since Panadas is built on NumPy, it is too!  Just use whatever is convenient for the context you're in."
   ]
  }
 ],
 "metadata": {
  "kernelspec": {
   "display_name": "Python 3 (ipykernel)",
   "language": "python",
   "name": "python3"
  },
  "language_info": {
   "codemirror_mode": {
    "name": "ipython",
    "version": 3
   },
   "file_extension": ".py",
   "mimetype": "text/x-python",
   "name": "python",
   "nbconvert_exporter": "python",
   "pygments_lexer": "ipython3",
   "version": "3.11.4"
  }
 },
 "nbformat": 4,
 "nbformat_minor": 5
}
