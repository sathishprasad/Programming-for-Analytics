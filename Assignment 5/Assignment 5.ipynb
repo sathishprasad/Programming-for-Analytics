{
 "cells": [
  {
   "cell_type": "markdown",
   "id": "c5f50296-63e8-4e9d-9005-1d02dce994bb",
   "metadata": {},
   "source": [
    "# Assignment 5\n",
    "*This is assignment is to be done **individually**.*\n",
    "\n",
    "The objective of this assignment is to give you experience with classes and objects.\n",
    "\n",
    "Please meet the specific requirements exactly. Do not change or remove any of the instructions; just add you name and NetID in the Markdown cell below and code in code cells as indicated.  Please make sure to test your programs before submitting your solutions on Canvas!  You can add extra cells to debug, but please remove them before submitting."
   ]
  },
  {
   "cell_type": "markdown",
   "id": "942c4a65-e32a-4a0b-b874-835fd9094a16",
   "metadata": {},
   "source": [
    "**Name:** Example Solution\n",
    "\n",
    "**NetID:** NA"
   ]
  },
  {
   "cell_type": "markdown",
   "id": "17a675d0-ab92-469e-9e02-cc208da77611",
   "metadata": {},
   "source": [
    "## Part 1: Customer Loyalty Program\n",
    "\n",
    "Write a program to manage customer information and loyalty points.\n",
    "\n",
    "- Create a `Customer` class to hold customer information including each customer's name, phone number, and loyalty points (these are the class *attributes*).\n",
    "    - Implement a class method called `add_loyalty_points` that takes a paramter `points` and increments the customer's loyaty points accordingly.\n",
    "    - Implement a class method called `get_loyalty_points` that returns the current number of loyatly points a customer has.\n",
    "    - Implement a class method called `display_details` to display a customer details in the format specified below the first code cell (keep scrolling!).\n",
    "- Read data from the file `customers.csv` and create a `Customer` object for each customer.  Store these objects in dictionary with the customers' phone numbers as keys.\n",
    "- Read a log of expenditures from `transactions.csv` and use this data to update the loyalty points of customers.  For every transaction, each time a customer spends \\\\$10, they get 1 loyalty point; partial points are lost.  \n",
    "    - For example, if a customer has two transacions, one for \\\\$15 and another for \\\\$17, they would only have two loyalty points. \n",
    "    - To help you check your results, the phone number `2726514133` should have 73 loyaty points adn the phone number `8702617860` should have 114.\n",
    "- Create a file called `loyalty_points.csv` that contains each customer's phone number and their current loyaty points with the header `phone.number,loyalty.points`.  \n",
    "\n",
    "**Hint:** *It might be worth using _default values_ for the method arguments (you can set up default arguments for any function, not just class methods).  [Learn more](https://www.geeksforgeeks.org/default-arguments-in-python/). ([Plus avoid a pitfall](https://medium.com/python-features/how-to-avoid-classic-pitfall-while-passing-default-values-in-python-7002c0dc4c7c).)*"
   ]
  },
  {
   "cell_type": "code",
   "execution_count": null,
   "id": "79bfd12b-3609-4019-bc84-2fa611947f29",
   "metadata": {},
   "outputs": [],
   "source": [
    "# TODO: define a Customer class with name, phone number, and loyaty point attributes and\n",
    "# methods 'add_loyalty_points', 'get_loyalty_points' and 'display_details'"
   ]
  },
  {
   "cell_type": "markdown",
   "id": "e30ff236-bc4f-4076-a2f0-0e0e307a70b1",
   "metadata": {},
   "source": [
    "The cell below should produce the following output.\n",
    "\n",
    "```\n",
    "Customer Details:\n",
    "  Name: Bill Barlow\n",
    "  Phone: 6612520301\n",
    "  Loyalty Points: 82\n",
    "```"
   ]
  },
  {
   "cell_type": "code",
   "execution_count": null,
   "id": "011fa3a2-aca9-47a6-b51d-175d612056d8",
   "metadata": {},
   "outputs": [],
   "source": [
    "# Do not change this cell.  It is to help you check your 'display_details' method\n",
    "customer = Customer(\"Bill Barlow\", \"6612520301\", 82)\n",
    "customer.display_details()"
   ]
  },
  {
   "cell_type": "code",
   "execution_count": null,
   "id": "70363fba-80bb-42ec-9dc8-df935bbf7579",
   "metadata": {},
   "outputs": [],
   "source": [
    "# TODO: Use the class you just defined to create customer objects for every customer in\n",
    "# the 'customers.csv' file.  Store these objects in a dictionary with the customers'\n",
    "# phone numbers as keys"
   ]
  },
  {
   "cell_type": "code",
   "execution_count": null,
   "id": "41f3da3f-3e44-4f76-b3ce-21dbf6202fdd",
   "metadata": {},
   "outputs": [],
   "source": [
    "# TODO: read in transaction data from 'transactions.csv' and update loyalty points"
   ]
  },
  {
   "cell_type": "code",
   "execution_count": null,
   "id": "d2a218ac-a777-4d8b-b9c8-3180c06a4cd9",
   "metadata": {},
   "outputs": [],
   "source": [
    "# TODO: write out cutomers' phone numbers and current loyalty points to 'loyalty_points.csv'"
   ]
  },
  {
   "cell_type": "markdown",
   "id": "093b0156-3564-4cc3-be71-703a0e3ca039",
   "metadata": {
    "tags": []
   },
   "source": [
    "## Part 2: Customer Loyalty Program\n",
    "\n",
    "Write a program to manage inventory replenishment in a supply chain.\n",
    "\n",
    "- Create an `InventoryItem` class to hold item information including item id, item title, inventory level, reorder point, and maximum quantity for a given product (these are the class *attributes*).\n",
    "    - Implement a class method called `fulfill_order` that takes a paramter `quantity`.  If there are enough items to fulfill the order, have the method decrease the inventory level by the order quantity and return `True`.  If there are **not** enough items to fulfill the order, do not change the inventory and return `False`.\n",
    "    - Implement a class method called `restock_check` that checks if the current inventory level is below the restock level.  If it is, calculate how many items are needed to get the inventory back to the maximum quantity, and \"order\" that number of items, restocking the inventory (a.k.a. incrementing the inventory level by that number or setting the inventory to the maximum quantity).  Return the number of items ordered (0 if no restocking occurred).\n",
    "- Read data from the file `inventory_items.csv` and create an `InventoryItem` object for each item.  Store these objects in dictionary with the item ids as keys.\n",
    "- Read a log of expenditures from `transactions2.csv` and use this data to update the inventory.  As you do so, write out two log files.\n",
    "    - At the end of each day (not after every transaction), check to see if any items need to be restocked.  Log any restocked orders to `restocking_log.csv`, being careful not to include items that were not restocked.  See below for the example first lines of this file.\n",
    "    - For every order that was unable to be fulfilled, log this information in `failed_orders.csv`  See below for the example first lines of this file.  In industry, this data might be useful to figure out what the ideal restocking points should be and whether or not the maximum inventory levels should be adjusted.  (E.g., Do we need more warehouse space?  Should we work with what we have, decreasing the maximum inventory for some products to make space for more popular ones?)\n",
    "\n",
    "The first ten lines of `restocking_log.csv` should look like this.\n",
    "```\n",
    "date,item.id,order\n",
    "2023-04-01,B00017028M,393\n",
    "2023-04-01,B0007KLGFQ,120\n",
    "2023-04-01,B000B6O4LO,94\n",
    "2023-04-01,B000E73MW2,140\n",
    "2023-04-01,B000F3Q6Q4,115\n",
    "2023-04-01,B000MUJPCC,94\n",
    "2023-04-01,B000Q6QZES,112\n",
    "2023-04-01,B0013P3KC6,180\n",
    "2023-04-01,B001CDOBCM,71\n",
    "```\n",
    "\n",
    "The first ten lines of `failed_orders.csv` should look like this.\n",
    "```\n",
    "date,item.id,desired.quantity,inventory.quantity\n",
    "2023-04-01,B01FRQ5D4Y,20,0\n",
    "2023-04-01,B01FRQ5D4Y,4,0\n",
    "2023-04-01,B01FRQ5D4Y,5,0\n",
    "2023-04-01,B01FRQ5D4Y,4,0\n",
    "2023-04-01,B00H2AAXMQ,2,1\n",
    "2023-04-01,B01FRQ5D4Y,15,0\n",
    "2023-04-01,B00H2AAXMQ,10,1\n",
    "2023-04-01,B00H2AAXMQ,7,1\n",
    "2023-04-01,B01FRQ5D4Y,5,0\n",
    "```\n",
    "\n",
    "**Hint:** *The transactions are in chronological order, so to see if you've moved on to the next day, all you need to do is check to see if the current transaction date is different than previous transaction date.  Python can do more powerful things with dates ([learn more](https://www.geeksforgeeks.org/python-datetime-module/)), but keep it simple for completing this assignment!*"
   ]
  },
  {
   "cell_type": "code",
   "execution_count": null,
   "id": "78143bf3-3609-4fa9-b2e6-0c123effa008",
   "metadata": {},
   "outputs": [],
   "source": [
    "# TODO: write your InventoryItem class here."
   ]
  },
  {
   "cell_type": "code",
   "execution_count": null,
   "id": "cc6147d0-9a81-4d2a-885f-fab6afb6a04b",
   "metadata": {},
   "outputs": [],
   "source": [
    "# TODO: Use the class you just defined to create inventory item objects for every item in\n",
    "# the 'initial_inventory.csv' file.  Store these objects in a dictionary with the item ids\n",
    "# as keys"
   ]
  },
  {
   "cell_type": "code",
   "execution_count": null,
   "id": "1e75173f-fad7-4a41-85a4-503366610ec3",
   "metadata": {},
   "outputs": [],
   "source": [
    "# TODO: Read in the transactions from 'transactions2.csv', updating the inventory numbers\n",
    "# for items as orders are fulfilled.  Log failed orders in 'failed_orders.csv' and log\n",
    "# which items have been restocked at the end of each day in 'restocking_log.csv'."
   ]
  }
 ],
 "metadata": {
  "kernelspec": {
   "display_name": "Python 3 (ipykernel)",
   "language": "python",
   "name": "python3"
  },
  "language_info": {
   "codemirror_mode": {
    "name": "ipython",
    "version": 3
   },
   "file_extension": ".py",
   "mimetype": "text/x-python",
   "name": "python",
   "nbconvert_exporter": "python",
   "pygments_lexer": "ipython3",
   "version": "3.10.9"
  }
 },
 "nbformat": 4,
 "nbformat_minor": 5
}
